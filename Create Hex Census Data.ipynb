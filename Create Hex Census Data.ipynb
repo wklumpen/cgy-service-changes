{
 "cells": [
  {
   "cell_type": "code",
   "execution_count": 2,
   "metadata": {},
   "outputs": [],
   "source": [
    "import pandas as pd\n",
    "import os\n",
    "data_folder = \"../data\"\n",
    "\n",
    "CATS = {\n",
    "    'Ab_NoEng': {'weight': 0.18, 'mu': 5.009761797, 'sigma': 5.22064938},\n",
    "    'Ag_Und14': {'weight': 0.0735, 'mu': 14.57531749, 'sigma': 5.848906595},\n",
    "    'Ag_65p': {'weight': 0.0735, 'mu': 15.63002229, 'sigma': 9.130043942},\n",
    "    'Gd_SgMomFam': {'weight': 0.18, 'mu': 17.88439733, 'sigma': 10.1538072},\n",
    "    'Mn_UndLICO': {'weight': 0.033333333, 'mu': 17.4, 'sigma': 10.84839995},\n",
    "    'Mn_Unemp': {'weight': 0.033333333, 'mu': 5.329693196, 'sigma': 2.426022441},\n",
    "    'Mn_MajRep': {'weight': 0.033333333, 'mu': 7.061989523, 'sigma': 5.710416918},\n",
    "    'Mn_UnsuitHous': {'weight': 0.033333333, 'mu': 12.1144187, 'sigma': 10.6076367},\n",
    "    'Mn_TenRBurd': {'weight': 0.033333333, 'mu': 46.8, 'sigma': 23.66868541},\n",
    "    'Mn_TenSHous': {'weight': 0.033333333, 'mu': 15.1, 'sigma': 19.03649737},\n",
    "    'Rc_RecImg': {'weight': 0.0294, 'mu': 6.982666862, 'sigma': 6.257990521},\n",
    "    'Rc_Indig': {'weight': 0.0294, 'mu': 0.856904555, 'sigma': 1.41359837},\n",
    "    'Rc_VisMin': {'weight': 0.0294, 'mu': 51.48671919, 'sigma': 26.837466},\n",
    "    'Rc_Black': {'weight': 0.0294, 'mu': 8.910841431, 'sigma': 11.409264},\n",
    "    'Rc_Refg': {'weight': 0.0294, 'mu': 8.381768053, 'sigma': 6.658833094},\n",
    "    'Tr_NoCar': {'weight': 0.048666667, 'mu': 9.43384575, 'sigma': 12.35557764},\n",
    "    'Tr_NoCarTrip': {'weight': 0.048666667, 'mu': 23.983497, 'sigma': 14.906141},\n",
    "    'Tr_WorkT60p': {'weight': 0.048666667, 'mu': 16.21271647, 'sigma': 8.349463988}\n",
    "}"
   ]
  },
  {
   "cell_type": "code",
   "execution_count": 23,
   "metadata": {},
   "outputs": [
    {
     "name": "stdout",
     "output_type": "stream",
     "text": [
      "Index(['dauid', 'cduid', 'pop_2021', 'pop_density', 'area', 'age_total',\n",
      "       'age_0_14', 'age_65_plus', 'lone_total', 'lang_total', 'lang_french',\n",
      "       'lang_neither', 'inc_total', 'linc_lim', 'linc_lico', 'minc_total',\n",
      "       'minc_minc', 'imm_total', 'imm_imm', 'imm_recent', 'ind_total',\n",
      "       'ind_ind', 'house_total', 'house_30p_shelter', 'tenant_total',\n",
      "       'tenant_30p_shelter', 'lab_total', 'lab_inforce', 'lab_unemp'],\n",
      "      dtype='object')\n"
     ]
    },
    {
     "data": {
      "text/html": [
       "<div>\n",
       "<style scoped>\n",
       "    .dataframe tbody tr th:only-of-type {\n",
       "        vertical-align: middle;\n",
       "    }\n",
       "\n",
       "    .dataframe tbody tr th {\n",
       "        vertical-align: top;\n",
       "    }\n",
       "\n",
       "    .dataframe thead th {\n",
       "        text-align: right;\n",
       "    }\n",
       "</style>\n",
       "<table border=\"1\" class=\"dataframe\">\n",
       "  <thead>\n",
       "    <tr style=\"text-align: right;\">\n",
       "      <th></th>\n",
       "      <th>DAUID</th>\n",
       "      <th>id</th>\n",
       "      <th>fra_da_in_hex</th>\n",
       "    </tr>\n",
       "  </thead>\n",
       "  <tbody>\n",
       "    <tr>\n",
       "      <th>0</th>\n",
       "      <td>48060566</td>\n",
       "      <td>5038</td>\n",
       "      <td>0.093</td>\n",
       "    </tr>\n",
       "    <tr>\n",
       "      <th>1</th>\n",
       "      <td>48060566</td>\n",
       "      <td>5039</td>\n",
       "      <td>0.213</td>\n",
       "    </tr>\n",
       "    <tr>\n",
       "      <th>2</th>\n",
       "      <td>48060566</td>\n",
       "      <td>5040</td>\n",
       "      <td>0.006</td>\n",
       "    </tr>\n",
       "    <tr>\n",
       "      <th>3</th>\n",
       "      <td>48060566</td>\n",
       "      <td>5249</td>\n",
       "      <td>0.001</td>\n",
       "    </tr>\n",
       "    <tr>\n",
       "      <th>4</th>\n",
       "      <td>48060566</td>\n",
       "      <td>5250</td>\n",
       "      <td>0.228</td>\n",
       "    </tr>\n",
       "  </tbody>\n",
       "</table>\n",
       "</div>"
      ],
      "text/plain": [
       "      DAUID    id  fra_da_in_hex\n",
       "0  48060566  5038          0.093\n",
       "1  48060566  5039          0.213\n",
       "2  48060566  5040          0.006\n",
       "3  48060566  5249          0.001\n",
       "4  48060566  5250          0.228"
      ]
     },
     "execution_count": 23,
     "metadata": {},
     "output_type": "execute_result"
    }
   ],
   "source": [
    "runs = pd.read_csv(os.path.join(data_folder, 'run_reference.csv'))\n",
    "da_hex_link = pd.read_csv(os.path.join(data_folder, 'census', 'da_hex_link.csv'))\n",
    "census = pd.read_csv(os.path.join(data_folder, 'census', 'cgy_da_data_clean.csv'))\n",
    "print(census.columns)\n",
    "da_hex_link.head()"
   ]
  },
  {
   "cell_type": "code",
   "execution_count": 38,
   "metadata": {},
   "outputs": [
    {
     "data": {
      "text/html": [
       "<div>\n",
       "<style scoped>\n",
       "    .dataframe tbody tr th:only-of-type {\n",
       "        vertical-align: middle;\n",
       "    }\n",
       "\n",
       "    .dataframe tbody tr th {\n",
       "        vertical-align: top;\n",
       "    }\n",
       "\n",
       "    .dataframe thead th {\n",
       "        text-align: right;\n",
       "    }\n",
       "</style>\n",
       "<table border=\"1\" class=\"dataframe\">\n",
       "  <thead>\n",
       "    <tr style=\"text-align: right;\">\n",
       "      <th></th>\n",
       "      <th>from_id</th>\n",
       "      <th>to_id</th>\n",
       "      <th>travel_time</th>\n",
       "    </tr>\n",
       "  </thead>\n",
       "  <tbody>\n",
       "    <tr>\n",
       "      <th>0</th>\n",
       "      <td>7573</td>\n",
       "      <td>7573</td>\n",
       "      <td>8.0</td>\n",
       "    </tr>\n",
       "    <tr>\n",
       "      <th>1</th>\n",
       "      <td>7573</td>\n",
       "      <td>7574</td>\n",
       "      <td>2.0</td>\n",
       "    </tr>\n",
       "    <tr>\n",
       "      <th>2</th>\n",
       "      <td>7573</td>\n",
       "      <td>7575</td>\n",
       "      <td>7.0</td>\n",
       "    </tr>\n",
       "    <tr>\n",
       "      <th>3</th>\n",
       "      <td>7573</td>\n",
       "      <td>7568</td>\n",
       "      <td>29.0</td>\n",
       "    </tr>\n",
       "    <tr>\n",
       "      <th>4</th>\n",
       "      <td>7573</td>\n",
       "      <td>7569</td>\n",
       "      <td>30.0</td>\n",
       "    </tr>\n",
       "  </tbody>\n",
       "</table>\n",
       "</div>"
      ],
      "text/plain": [
       "   from_id  to_id  travel_time\n",
       "0     7573   7573          8.0\n",
       "1     7573   7574          2.0\n",
       "2     7573   7575          7.0\n",
       "3     7573   7568         29.0\n",
       "4     7573   7569         30.0"
      ]
     },
     "execution_count": 38,
     "metadata": {},
     "output_type": "execute_result"
    }
   ],
   "source": [
    "hospitals = pd.read_csv(os.path.join(data_folder, 'opportunity', 'hospitals.csv'))\n",
    "ttm = pd.read_csv(os.path.join(data_folder, 'matrices', '1_2019_03_06.csv'))\n",
    "ttm.head()"
   ]
  },
  {
   "cell_type": "code",
   "execution_count": 50,
   "metadata": {},
   "outputs": [],
   "source": [
    "# Get hospitals at destinations\n",
    "df = pd.merge(ttm, hospitals, left_on='to_id', right_on='id')\n",
    "df = df[df.hospitals > 0]\n",
    "df.travel_time = df.travel_time.fillna(121)"
   ]
  },
  {
   "cell_type": "code",
   "execution_count": 51,
   "metadata": {},
   "outputs": [],
   "source": [
    "nearest_hospital = df[['from_id', 'travel_time']].groupby('from_id', as_index=False).min()\n",
    "nearest_hospital.to_csv(os.path.join(data_folder, 'results', 'nearest_hospital.csv'), index=False)"
   ]
  }
 ],
 "metadata": {
  "kernelspec": {
   "display_name": "Python 3 (ipykernel)",
   "language": "python",
   "name": "python3"
  },
  "language_info": {
   "codemirror_mode": {
    "name": "ipython",
    "version": 3
   },
   "file_extension": ".py",
   "mimetype": "text/x-python",
   "name": "python",
   "nbconvert_exporter": "python",
   "pygments_lexer": "ipython3",
   "version": "3.10.6"
  },
  "vscode": {
   "interpreter": {
    "hash": "13ffac2256cad5354ced8af50deb552e55e52778a286d0c2b219cf7ee5fe0046"
   }
  }
 },
 "nbformat": 4,
 "nbformat_minor": 4
}
