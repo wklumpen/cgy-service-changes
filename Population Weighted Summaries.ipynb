{
 "cells": [
  {
   "cell_type": "code",
   "execution_count": 1,
   "id": "1ed1cac5-8736-47d1-8135-b2570bc7a603",
   "metadata": {},
   "outputs": [],
   "source": [
    "import pandas as pd\n",
    "import os\n",
    "data_folder = \"../data\""
   ]
  },
  {
   "cell_type": "code",
   "execution_count": 27,
   "id": "152c422c-b7ee-4690-ad17-4e16584a735e",
   "metadata": {},
   "outputs": [
    {
     "data": {
      "text/plain": [
       "Index(['id', 'pop_2016', 'age_total', 'age_0_14', 'age_65_plus', 'lone_total',\n",
       "       'lang_total', 'lang_french', 'lang_neither', 'inc_total', 'linc_lim',\n",
       "       'linc_lico', 'imm_total', 'imm_imm', 'imm_recent', 'ind_total',\n",
       "       'ind_ind', 'house_total', 'house_30p_shelter', 'tenant_total',\n",
       "       'tenant_30p_shelter', 'lab_total', 'lab_inforce', 'lab_unemp'],\n",
       "      dtype='object')"
      ]
     },
     "execution_count": 27,
     "metadata": {},
     "output_type": "execute_result"
    }
   ],
   "source": [
    "census = pd.read_csv(os.path.join(data_folder, 'census', 'hex_census.csv'))\n",
    "runs = pd.read_csv(os.path.join(data_folder, 'run_reference.csv'))\n",
    "census.columns"
   ]
  },
  {
   "cell_type": "code",
   "execution_count": 40,
   "id": "2151696f-890c-4867-b76d-9a8e093c7199",
   "metadata": {},
   "outputs": [],
   "source": [
    "out = {\n",
    "    'matrix_id': [],\n",
    "    'pop_2016': [],\n",
    "    'imm_recent': [],\n",
    "    'age_0_14': [],\n",
    "    'age_65_plus': [],\n",
    "    'linc_lico': []\n",
    "}\n",
    "for idx, row in runs.iterrows():\n",
    "    result = pd.read_csv(os.path.join(data_folder, 'results', f\"{row['matrix_id']}_results.csv\"))\n",
    "    # Join to Census\n",
    "    result = pd.merge(result, census, on='id')\n",
    "    # Let's do population\n",
    "    result['pop_2016_frac'] = result['pop_2016']/result['pop_2016'].sum()\n",
    "    result['pop_frac'] = result['pop_2016_frac'] * result['population']\n",
    "    \n",
    "    result['imm_recent_frac'] = result['imm_recent']/result['imm_recent'].sum()\n",
    "    result['imm_recent_pop'] = result['imm_recent_frac'] * result['population']\n",
    "    \n",
    "    result['age_0_14_frac'] = result['age_0_14']/result['age_0_14'].sum()\n",
    "    result['age_0_14_pop'] = result['age_0_14_frac'] * result['population']\n",
    "    \n",
    "    result['age_0_14_frac'] = result['age_0_14']/result['age_0_14'].sum()\n",
    "    result['age_0_14_pop'] = result['age_0_14_frac'] * result['population']\n",
    "    \n",
    "    result['age_65_plus_frac'] = result['age_65_plus']/result['age_65_plus'].sum()\n",
    "    result['age_65_plus_pop'] = result['age_65_plus_frac'] * result['population']\n",
    "    \n",
    "    result['linc_lico_frac'] = result['linc_lico']/result['linc_lico'].sum()\n",
    "    result['linc_lico_pop'] = result['linc_lico_frac'] * result['population']\n",
    "    \n",
    "    out['matrix_id'].append(row['matrix_id'])\n",
    "    out['pop_2016'].append(result.pop_frac.sum())\n",
    "    out['imm_recent'].append(result.imm_recent_pop.sum())\n",
    "    out['age_0_14'].append(result.age_0_14_pop.sum())\n",
    "    out['age_65_plus'].append(result.age_65_plus_pop.sum())\n",
    "    out['linc_lico'].append(result.linc_lico_pop.sum())\n",
    "    \n",
    "    \n",
    "summary = pd.DataFrame(out)"
   ]
  },
  {
   "cell_type": "code",
   "execution_count": 46,
   "id": "ea99f081-b1c3-4f37-abf0-4fc13e1359c3",
   "metadata": {},
   "outputs": [
    {
     "data": {
      "text/html": [
       "\n",
       "<div id=\"altair-viz-ea67d769ba2c48329bb7c1131ff825ac\"></div>\n",
       "<script type=\"text/javascript\">\n",
       "  var VEGA_DEBUG = (typeof VEGA_DEBUG == \"undefined\") ? {} : VEGA_DEBUG;\n",
       "  (function(spec, embedOpt){\n",
       "    let outputDiv = document.currentScript.previousElementSibling;\n",
       "    if (outputDiv.id !== \"altair-viz-ea67d769ba2c48329bb7c1131ff825ac\") {\n",
       "      outputDiv = document.getElementById(\"altair-viz-ea67d769ba2c48329bb7c1131ff825ac\");\n",
       "    }\n",
       "    const paths = {\n",
       "      \"vega\": \"https://cdn.jsdelivr.net/npm//vega@5?noext\",\n",
       "      \"vega-lib\": \"https://cdn.jsdelivr.net/npm//vega-lib?noext\",\n",
       "      \"vega-lite\": \"https://cdn.jsdelivr.net/npm//vega-lite@4.17.0?noext\",\n",
       "      \"vega-embed\": \"https://cdn.jsdelivr.net/npm//vega-embed@6?noext\",\n",
       "    };\n",
       "\n",
       "    function maybeLoadScript(lib, version) {\n",
       "      var key = `${lib.replace(\"-\", \"\")}_version`;\n",
       "      return (VEGA_DEBUG[key] == version) ?\n",
       "        Promise.resolve(paths[lib]) :\n",
       "        new Promise(function(resolve, reject) {\n",
       "          var s = document.createElement('script');\n",
       "          document.getElementsByTagName(\"head\")[0].appendChild(s);\n",
       "          s.async = true;\n",
       "          s.onload = () => {\n",
       "            VEGA_DEBUG[key] = version;\n",
       "            return resolve(paths[lib]);\n",
       "          };\n",
       "          s.onerror = () => reject(`Error loading script: ${paths[lib]}`);\n",
       "          s.src = paths[lib];\n",
       "        });\n",
       "    }\n",
       "\n",
       "    function showError(err) {\n",
       "      outputDiv.innerHTML = `<div class=\"error\" style=\"color:red;\">${err}</div>`;\n",
       "      throw err;\n",
       "    }\n",
       "\n",
       "    function displayChart(vegaEmbed) {\n",
       "      vegaEmbed(outputDiv, spec, embedOpt)\n",
       "        .catch(err => showError(`Javascript Error: ${err.message}<br>This usually means there's a typo in your chart specification. See the javascript console for the full traceback.`));\n",
       "    }\n",
       "\n",
       "    if(typeof define === \"function\" && define.amd) {\n",
       "      requirejs.config({paths});\n",
       "      require([\"vega-embed\"], displayChart, err => showError(`Error loading script: ${err.message}`));\n",
       "    } else {\n",
       "      maybeLoadScript(\"vega\", \"5\")\n",
       "        .then(() => maybeLoadScript(\"vega-lite\", \"4.17.0\"))\n",
       "        .then(() => maybeLoadScript(\"vega-embed\", \"6\"))\n",
       "        .catch(showError)\n",
       "        .then(() => displayChart(vegaEmbed));\n",
       "    }\n",
       "  })({\"config\": {\"view\": {\"continuousWidth\": 400, \"continuousHeight\": 300}}, \"data\": {\"name\": \"data-40adfca1689a097f825c4cc49fadcf58\"}, \"mark\": \"line\", \"encoding\": {\"color\": {\"field\": \"variable\", \"type\": \"nominal\"}, \"x\": {\"field\": \"week_of\", \"type\": \"temporal\"}, \"y\": {\"field\": \"value\", \"title\": \"Persons Reachable in 45 Minutes\", \"type\": \"quantitative\"}}, \"selection\": {\"selector004\": {\"type\": \"interval\", \"bind\": \"scales\", \"encodings\": [\"x\", \"y\"]}}, \"$schema\": \"https://vega.github.io/schema/vega-lite/v4.17.0.json\", \"datasets\": {\"data-40adfca1689a097f825c4cc49fadcf58\": [{\"week_of\": \"2019-04-08\", \"variable\": \"pop_2016\", \"value\": 73985.13244278067}, {\"week_of\": \"2019-10-21\", \"variable\": \"pop_2016\", \"value\": 71772.4587291524}, {\"week_of\": \"2020-02-24\", \"variable\": \"pop_2016\", \"value\": 72474.18989742143}, {\"week_of\": \"2020-04-13\", \"variable\": \"pop_2016\", \"value\": 69574.11878398411}, {\"week_of\": \"2020-09-21\", \"variable\": \"pop_2016\", \"value\": 69637.90104442046}, {\"week_of\": \"2021-03-22\", \"variable\": \"pop_2016\", \"value\": 69106.19307111266}, {\"week_of\": \"2021-09-20\", \"variable\": \"pop_2016\", \"value\": 27494.62276428339}, {\"week_of\": \"2022-03-14\", \"variable\": \"pop_2016\", \"value\": 66481.3778231466}, {\"week_of\": \"2022-09-12\", \"variable\": \"pop_2016\", \"value\": 79182.61395162625}, {\"week_of\": \"2019-04-08\", \"variable\": \"imm_recent\", \"value\": 80638.95654549374}, {\"week_of\": \"2019-10-21\", \"variable\": \"imm_recent\", \"value\": 78881.23444902094}, {\"week_of\": \"2020-02-24\", \"variable\": \"imm_recent\", \"value\": 79573.45514893171}, {\"week_of\": \"2020-04-13\", \"variable\": \"imm_recent\", \"value\": 76086.04703159929}, {\"week_of\": \"2020-09-21\", \"variable\": \"imm_recent\", \"value\": 76100.44893011946}, {\"week_of\": \"2021-03-22\", \"variable\": \"imm_recent\", \"value\": 75764.67016238296}, {\"week_of\": \"2021-09-20\", \"variable\": \"imm_recent\", \"value\": 29623.085281158583}, {\"week_of\": \"2022-03-14\", \"variable\": \"imm_recent\", \"value\": 73417.00650648106}, {\"week_of\": \"2022-09-12\", \"variable\": \"imm_recent\", \"value\": 87906.09890074833}, {\"week_of\": \"2019-04-08\", \"variable\": \"age_0_14\", \"value\": 63706.547965537626}, {\"week_of\": \"2019-10-21\", \"variable\": \"age_0_14\", \"value\": 61853.48098022118}, {\"week_of\": \"2020-02-24\", \"variable\": \"age_0_14\", \"value\": 62551.60720113611}, {\"week_of\": \"2020-04-13\", \"variable\": \"age_0_14\", \"value\": 60151.163285889095}, {\"week_of\": \"2020-09-21\", \"variable\": \"age_0_14\", \"value\": 60315.391527295484}, {\"week_of\": \"2021-03-22\", \"variable\": \"age_0_14\", \"value\": 59927.41269024454}, {\"week_of\": \"2021-09-20\", \"variable\": \"age_0_14\", \"value\": 25665.916822908657}, {\"week_of\": \"2022-03-14\", \"variable\": \"age_0_14\", \"value\": 57897.39236324873}, {\"week_of\": \"2022-09-12\", \"variable\": \"age_0_14\", \"value\": 68898.85089960978}, {\"week_of\": \"2019-04-08\", \"variable\": \"age_65_plus\", \"value\": 77814.0303557851}, {\"week_of\": \"2019-10-21\", \"variable\": \"age_65_plus\", \"value\": 75368.68718987632}, {\"week_of\": \"2020-02-24\", \"variable\": \"age_65_plus\", \"value\": 76436.08327399963}, {\"week_of\": \"2020-04-13\", \"variable\": \"age_65_plus\", \"value\": 73212.12000204457}, {\"week_of\": \"2020-09-21\", \"variable\": \"age_65_plus\", \"value\": 73413.26020861365}, {\"week_of\": \"2021-03-22\", \"variable\": \"age_65_plus\", \"value\": 72579.4368779812}, {\"week_of\": \"2021-09-20\", \"variable\": \"age_65_plus\", \"value\": 27521.83780438126}, {\"week_of\": \"2022-03-14\", \"variable\": \"age_65_plus\", \"value\": 69512.96232840142}, {\"week_of\": \"2022-09-12\", \"variable\": \"age_65_plus\", \"value\": 83434.05466084636}, {\"week_of\": \"2019-04-08\", \"variable\": \"linc_lico\", \"value\": 92461.28135759264}, {\"week_of\": \"2019-10-21\", \"variable\": \"linc_lico\", \"value\": 90208.32165880642}, {\"week_of\": \"2020-02-24\", \"variable\": \"linc_lico\", \"value\": 90799.66093189149}, {\"week_of\": \"2020-04-13\", \"variable\": \"linc_lico\", \"value\": 87281.98272654173}, {\"week_of\": \"2020-09-21\", \"variable\": \"linc_lico\", \"value\": 87190.18943687557}, {\"week_of\": \"2021-03-22\", \"variable\": \"linc_lico\", \"value\": 86517.27053135328}, {\"week_of\": \"2021-09-20\", \"variable\": \"linc_lico\", \"value\": 31375.69858619494}, {\"week_of\": \"2022-03-14\", \"variable\": \"linc_lico\", \"value\": 83323.7088581658}, {\"week_of\": \"2022-09-12\", \"variable\": \"linc_lico\", \"value\": 99781.2198443343}]}}, {\"mode\": \"vega-lite\"});\n",
       "</script>"
      ],
      "text/plain": [
       "alt.Chart(...)"
      ]
     },
     "execution_count": 46,
     "metadata": {},
     "output_type": "execute_result"
    }
   ],
   "source": [
    "import altair as alt\n",
    "\n",
    "summary_ref = pd.merge(summary, runs, on='matrix_id')\n",
    "wda = summary_ref[summary_ref.period == 'WDP'][['week_of', 'pop_2016', 'imm_recent', 'age_0_14', 'age_65_plus', 'linc_lico']]\n",
    "alt.Chart(wda.melt(id_vars=['week_of'])).mark_line().encode(\n",
    "    alt.X('week_of:T'),\n",
    "    alt.Y('value:Q', title=\"Persons Reachable in 45 Minutes\"),\n",
    "    alt.Color('variable:N')\n",
    ").interactive()"
   ]
  }
 ],
 "metadata": {
  "kernelspec": {
   "display_name": "Python 3 (ipykernel)",
   "language": "python",
   "name": "python3"
  },
  "language_info": {
   "codemirror_mode": {
    "name": "ipython",
    "version": 3
   },
   "file_extension": ".py",
   "mimetype": "text/x-python",
   "name": "python",
   "nbconvert_exporter": "python",
   "pygments_lexer": "ipython3",
   "version": "3.10.6"
  }
 },
 "nbformat": 4,
 "nbformat_minor": 5
}
